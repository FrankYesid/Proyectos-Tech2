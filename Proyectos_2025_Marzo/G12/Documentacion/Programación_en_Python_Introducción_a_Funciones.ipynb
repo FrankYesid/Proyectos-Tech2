{
  "cells": [
    {
      "cell_type": "markdown",
      "id": "09234138",
      "metadata": {
        "id": "09234138"
      },
      "source": [
        "# Introducción a Funciones en Python\n",
        "# ==================================\n",
        "\n",
        "### Paso 1: ¿Qué es una función?\n",
        "# ----------------------------\n",
        "Una función es un bloque de código reutilizable que realiza una tarea específica.\n",
        "Las funciones permiten evitar la duplicación de código y pueden tomar argumentos como entrada,\n",
        "procesarlos y devolver un resultado.\n",
        "\n"
      ]
    },
    {
      "cell_type": "markdown",
      "id": "933156c7",
      "metadata": {
        "id": "933156c7"
      },
      "source": [
        "### Paso 2: Sintaxis básica de una función\n",
        "# --------------------------------------\n",
        "La sintaxis básica de una función en Python es:\n",
        "\n",
        "```python\n",
        "def nombre_de_la_funcion(parámetros):\n",
        "    '''Documentación opcional'''\n",
        "    # Código de la función\n",
        "    return valor (opcional)\n",
        "```\n",
        "\n",
        "Donde:\n",
        "- `def`: Es la palabra clave que indica la definición de una función.\n",
        "- `nombre_de_la_funcion`: El nombre que le damos a la función.\n",
        "- `parámetros`: Son opcionales y se utilizan para pasar valores a la función.\n",
        "- `return`: Es opcional y se utiliza para devolver un valor después de que la función termine."
      ]
    },
    {
      "cell_type": "code",
      "execution_count": null,
      "id": "08d60e81",
      "metadata": {
        "colab": {
          "base_uri": "https://localhost:8080/"
        },
        "id": "08d60e81",
        "outputId": "a3a276ad-ff18-478e-a8a0-fa89ca48c864"
      },
      "outputs": [
        {
          "output_type": "stream",
          "name": "stdout",
          "text": [
            "Ingresa el nombre: Natalia\n",
            "¡Hola, Natalia!\n"
          ]
        }
      ],
      "source": [
        "# Ejemplo básico: Crear una función que saluda\n",
        "def saludar(nombre):\n",
        "    '''\n",
        "    Esta función toma un nombre como argumento y devuelve un saludo.\n",
        "    '''\n",
        "    saludo = f\"¡Hola, {nombre}!\"\n",
        "    return saludo\n",
        "\n",
        "# Llamada a la función\n",
        "nombre_usuario = input('Ingresa el nombre: ')#\"Frank\"\n",
        "print(saludar(nombre_usuario))  # Salida: ¡Hola, Frank!"
      ]
    },
    {
      "cell_type": "markdown",
      "id": "18d236b8",
      "metadata": {
        "id": "18d236b8"
      },
      "source": [
        "### Paso 3: Parámetros y argumentos\n",
        "# -------------------------------\n",
        "Los parámetros son las variables que se definen en la firma de la función,\n",
        "mientras que los argumentos son los valores que se pasan cuando se llama a la función.\n"
      ]
    },
    {
      "cell_type": "code",
      "execution_count": null,
      "id": "baf7caaa",
      "metadata": {
        "colab": {
          "base_uri": "https://localhost:8080/"
        },
        "id": "baf7caaa",
        "outputId": "83fc9e03-4acb-48f3-add0-2aeb7c25fbae"
      },
      "outputs": [
        {
          "output_type": "stream",
          "name": "stdout",
          "text": [
            "La suma de 3 y 5 es: 8\n"
          ]
        }
      ],
      "source": [
        "# Ejemplo de función con múltiples parámetros\n",
        "def sumar(a, b):\n",
        "    '''\n",
        "    Esta función toma dos números y devuelve su suma.\n",
        "    '''\n",
        "    return a + b\n",
        "\n",
        "# Llamada a la función\n",
        "resultado = sumar(3, 5)\n",
        "print(f\"La suma de 3 y 5 es: {resultado}\")  # Salida: La suma de 3 y 5 es: 8\n"
      ]
    },
    {
      "cell_type": "code",
      "source": [
        "sumar??"
      ],
      "metadata": {
        "id": "VjkU77Qhgy9A"
      },
      "id": "VjkU77Qhgy9A",
      "execution_count": null,
      "outputs": []
    },
    {
      "cell_type": "markdown",
      "id": "fa0c4add",
      "metadata": {
        "id": "fa0c4add"
      },
      "source": [
        "### Paso 4: Parámetros por defecto\n",
        "# ------------------------------\n",
        "Se pueden definir valores por defecto para los parámetros, en caso de que el usuario no pase un argumento.\n"
      ]
    },
    {
      "cell_type": "code",
      "execution_count": null,
      "id": "ce558303",
      "metadata": {
        "id": "ce558303"
      },
      "outputs": [],
      "source": [
        "# Ejemplo de función con parámetros por defecto\n",
        "def calcular_precio(precio, impuesto=0.19):\n",
        "    '''\n",
        "    Esta función calcula el precio final sumando el impuesto al precio original.\n",
        "    Si no se proporciona el valor del impuesto, utiliza el 19% por defecto.\n",
        "    '''\n",
        "    precio_final = precio * (1 + impuesto)\n",
        "    return precio_final"
      ]
    },
    {
      "cell_type": "code",
      "execution_count": null,
      "id": "187cdcee",
      "metadata": {
        "colab": {
          "base_uri": "https://localhost:8080/"
        },
        "id": "187cdcee",
        "outputId": "2a622551-2119-4b39-c0ad-d6ab8116ed5d"
      },
      "outputs": [
        {
          "output_type": "stream",
          "name": "stdout",
          "text": [
            "Precio final con impuesto: 125.0\n"
          ]
        }
      ],
      "source": [
        "# Llamada a la función con el valor por defecto del impuesto\n",
        "precio_producto = 100\n",
        "impuesto= 0.25\n",
        "print(f\"Precio final con impuesto: {calcular_precio(precio_producto, impuesto)}\")  # Salida: Precio final con impuesto: 119.0\n"
      ]
    },
    {
      "cell_type": "markdown",
      "id": "c56ce5dc",
      "metadata": {
        "id": "c56ce5dc"
      },
      "source": [
        "### Paso 5: Funciones sin retorno (void)\n",
        "# ------------------------------------\n",
        "No todas las funciones necesitan devolver un valor. Algunas funciones realizan acciones sin devolver un resultado explícito.\n"
      ]
    },
    {
      "cell_type": "code",
      "execution_count": null,
      "id": "5d60805c",
      "metadata": {
        "id": "5d60805c"
      },
      "outputs": [],
      "source": [
        "# Ejemplo de función sin retorno\n",
        "def imprimir_mensaje():\n",
        "    '''\n",
        "    Esta función imprime un mensaje, pero no devuelve ningún valor.\n",
        "    '''\n",
        "    print(\"Esta es una función que no devuelve nada.\")"
      ]
    },
    {
      "cell_type": "code",
      "execution_count": null,
      "id": "e179435c",
      "metadata": {
        "id": "e179435c",
        "outputId": "4644f6e7-0cc5-43ac-c253-960b91ce39b9"
      },
      "outputs": [
        {
          "name": "stdout",
          "output_type": "stream",
          "text": [
            "Esta es una función que no devuelve nada.\n"
          ]
        }
      ],
      "source": [
        "# Llamada a la función\n",
        "imprimir_mensaje()  # Salida: Esta es una función que no devuelve nada.\n"
      ]
    },
    {
      "cell_type": "markdown",
      "id": "26f97198",
      "metadata": {
        "id": "26f97198"
      },
      "source": [
        "### Paso 6: Funciones con múltiples retornos\n",
        "# ----------------------------------------\n",
        "Una función puede devolver múltiples valores como una tupla."
      ]
    },
    {
      "cell_type": "code",
      "execution_count": null,
      "id": "e547ffde",
      "metadata": {
        "id": "e547ffde",
        "outputId": "4e5d647b-c121-436b-dc5a-bf58c2ce02a6"
      },
      "outputs": [
        {
          "name": "stdout",
          "output_type": "stream",
          "text": [
            "Suma: 15, Resta: 5, Multiplicación: 50, División: 2.0\n"
          ]
        }
      ],
      "source": [
        "# Ejemplo de función con múltiples retornos\n",
        "def operaciones_basicas(a, b):\n",
        "    '''\n",
        "    Esta función realiza suma, resta, multiplicación y división.\n",
        "    Devuelve todos los resultados como una tupla.\n",
        "    '''\n",
        "    suma = a + b\n",
        "    resta = a - b\n",
        "    multiplicacion = a * b\n",
        "    division = a / b if b != 0 else None  # Evitar división por cero\n",
        "    return suma, resta, multiplicacion, division\n",
        "\n",
        "# Llamada a la función\n",
        "suma, resta, mult, div = operaciones_basicas(10, 5)\n",
        "print(f\"Suma: {suma}, Resta: {resta}, Multiplicación: {mult}, División: {div}\")\n",
        "# Salida: Suma: 15, Resta: 5, Multiplicación: 50, División: 2.0"
      ]
    },
    {
      "cell_type": "markdown",
      "id": "7aa4b677",
      "metadata": {
        "id": "7aa4b677"
      },
      "source": [
        "### Paso 7: Funciones anidadas (funciones dentro de funciones)\n",
        "# ---------------------------------------------------------\n",
        "Las funciones también pueden definirse dentro de otras funciones.\n"
      ]
    },
    {
      "cell_type": "code",
      "execution_count": null,
      "id": "d5377fa7",
      "metadata": {
        "id": "d5377fa7",
        "outputId": "4726ce97-aab8-4fc5-d15b-13da674ebb85"
      },
      "outputs": [
        {
          "name": "stdout",
          "output_type": "stream",
          "text": [
            "Resultado de la función anidada: 16\n"
          ]
        }
      ],
      "source": [
        "# Ejemplo de función anidada\n",
        "def funcion_externa(x):\n",
        "    '''\n",
        "    Esta función contiene otra función dentro.\n",
        "    '''\n",
        "    def funcion_interna(y):\n",
        "        return y * y\n",
        "    resultado = funcion_interna(x)\n",
        "    return resultado\n",
        "\n",
        "# Llamada a la función\n",
        "print(f\"Resultado de la función anidada: {funcion_externa(4)}\")  # Salida: Resultado de la función anidada: 16\n"
      ]
    },
    {
      "cell_type": "markdown",
      "id": "4f1bc26c",
      "metadata": {
        "id": "4f1bc26c"
      },
      "source": [
        "### Paso 8: Funciones lambda (funciones anónimas)\n",
        "# --------------------------------------------\n",
        "Las funciones lambda son pequeñas funciones anónimas que pueden tener cualquier número de argumentos pero sólo una expresión.\n"
      ]
    },
    {
      "cell_type": "code",
      "execution_count": null,
      "id": "74aa894d",
      "metadata": {
        "id": "74aa894d",
        "outputId": "f16219b1-51c4-4c31-95a8-5fe1da4902db"
      },
      "outputs": [
        {
          "name": "stdout",
          "output_type": "stream",
          "text": [
            "El doble de 5 es: 10\n"
          ]
        }
      ],
      "source": [
        "# Ejemplo de función lambda\n",
        "doblar = lambda x: x * 2\n",
        "print(f\"El doble de 5 es: {doblar(5)}\")  # Salida: El doble de 5 es: 10\n"
      ]
    },
    {
      "cell_type": "markdown",
      "id": "00a22e52",
      "metadata": {
        "id": "00a22e52"
      },
      "source": [
        "### Paso 9: Buenas prácticas\n",
        "# ------------------------\n",
        "> 1. Usa nombres de funciones descriptivos que indiquen claramente su propósito.\n",
        "> 2. Incluye docstrings para documentar la función y describir sus parámetros y retorno.\n",
        "> 3. Mantén las funciones concisas y enfocadas en una sola tarea.\n",
        "> 4. Evita la repetición de código utilizando funciones cuando sea necesario."
      ]
    },
    {
      "cell_type": "code",
      "source": [
        "lista_de_estudiantes = list()"
      ],
      "metadata": {
        "id": "o9WjCqAtsU9K"
      },
      "id": "o9WjCqAtsU9K",
      "execution_count": 4,
      "outputs": []
    },
    {
      "cell_type": "code",
      "source": [
        "lista_de_estudiantes"
      ],
      "metadata": {
        "colab": {
          "base_uri": "https://localhost:8080/"
        },
        "id": "UcXOJwX-scOq",
        "outputId": "85521682-bbe3-4747-8bd3-c7fc191c33d7"
      },
      "id": "UcXOJwX-scOq",
      "execution_count": 5,
      "outputs": [
        {
          "output_type": "execute_result",
          "data": {
            "text/plain": [
              "[]"
            ]
          },
          "metadata": {},
          "execution_count": 5
        }
      ]
    },
    {
      "cell_type": "code",
      "source": [
        "# vamos hacer una función de registro de estudiantes\n",
        "def registro_de_estudiantes(Nombre, Edad, Cedula, Sexo, Profesion):\n",
        "  '''\n",
        "  Esta función almacena la información de los estudiantes de la universidad de caldas.\n",
        "  Input:\n",
        "    Nombre: String - Ingresa el nombre del estudiantes\n",
        "    Edad: int - Ingresa la edad del estudiante\n",
        "    Cedula: int - Ingresa la cedula del estudiante\n",
        "    Sexo: String - Ingresa el sexo del estudiante\n",
        "    Profesion: String - Ingresa la profesion del estudiante\n",
        "  Output:\n",
        "    Dicccionario con la información del estudiante.\n",
        "  Ejemplo:\n",
        "    Nombre = input('Ingresa el nombre: ')\n",
        "    Edad = float(input('Ingresa la edad: '))\n",
        "    Cedula = int(input('Ingresa la cedula: '))\n",
        "    Sexo = input('Ingresa el sexo: ')\n",
        "    Profesion = input('Ingresa la profesion: ')\n",
        "    registro_de_estudiantes(Nombre, Edad, Cedula, Sexo, Profesion)\n",
        "  '''\n",
        "\n",
        "  diccionario = {\n",
        "      'Nombre': Nombre,\n",
        "      'Edad': Edad,\n",
        "      'Cedula': Cedula,\n",
        "      'Sexo': Sexo,\n",
        "      'Profesion': Profesion\n",
        "  }\n",
        "  return diccionario\n",
        "\n",
        "# Llamada a la función\n",
        "Nombre = input('Ingresa el nombre: ')\n",
        "Edad = float(input('Ingresa la edad: '))\n",
        "Cedula = int(input('Ingresa la cedula: '))\n",
        "Sexo = input('Ingresa el sexo: ')\n",
        "Profesion = input('Ingresa la profesion: ')\n",
        "lista_de_estudiantes.append(registro_de_estudiantes(Nombre, Edad, Cedula, Sexo, Profesion))\n",
        "print(lista_de_estudiantes)\n",
        "# lista_de_estudiantes = [registro_de_estudiantes(Nombre, Edad, Cedula, Sexo, Profesion)]\n",
        "# print(lista_de_estudiantes)\n"
      ],
      "metadata": {
        "id": "b4pE_rgAm3qn",
        "colab": {
          "base_uri": "https://localhost:8080/"
        },
        "outputId": "69f98bb4-023e-46ee-87f4-a1dc44b3cc90"
      },
      "id": "b4pE_rgAm3qn",
      "execution_count": 7,
      "outputs": [
        {
          "output_type": "stream",
          "name": "stdout",
          "text": [
            "Ingresa el nombre: Mario\n",
            "Ingresa la edad: 26\n",
            "Ingresa la cedula: 2937502395\n",
            "Ingresa el sexo: Masculino\n",
            "Ingresa la profesion: Chef\n",
            "[{'Nombre': 'Fredy', 'Edad': 55.5, 'Cedula': 20394023984, 'Sexo': 'Masculino', 'Profesion': 'Astronauta'}, {'Nombre': 'Mario', 'Edad': 26.0, 'Cedula': 2937502395, 'Sexo': 'Masculino', 'Profesion': 'Chef'}]\n"
          ]
        }
      ]
    },
    {
      "cell_type": "code",
      "source": [],
      "metadata": {
        "id": "_Ln26f49sdw9"
      },
      "id": "_Ln26f49sdw9",
      "execution_count": null,
      "outputs": []
    }
  ],
  "metadata": {
    "kernelspec": {
      "display_name": "Python 3",
      "language": "python",
      "name": "python3"
    },
    "language_info": {
      "codemirror_mode": {
        "name": "ipython",
        "version": 3
      },
      "file_extension": ".py",
      "mimetype": "text/x-python",
      "name": "python",
      "nbconvert_exporter": "python",
      "pygments_lexer": "ipython3",
      "version": "3.12.4"
    },
    "colab": {
      "provenance": []
    }
  },
  "nbformat": 4,
  "nbformat_minor": 5
}