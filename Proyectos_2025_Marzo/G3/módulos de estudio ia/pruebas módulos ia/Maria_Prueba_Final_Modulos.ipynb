{
    "cells": [
        {
            "cell_type": "markdown",
            "metadata": {},
            "source": [
                "# **Pruebas Finales - M\u00f3dulos 1 y 2**\n",
                "\n",
                "Este cuaderno contiene los enlaces a las pruebas finales de los M\u00f3dulos 1 y 2. Aseg\u00farate de leer las instrucciones antes de comenzar.\n"
            ]
        },
        {
            "cell_type": "markdown",
            "metadata": {},
            "source": [
                "## **M\u00f3dulo 1: Introducci\u00f3n a Python en Google Colab**\n",
                "\n",
                "Esta sesi\u00f3n tiene como objetivo introducir a los estudiantes en el uso de **Google Colab** como herramienta para programar en Python.\n",
                "Se explorar\u00e1n los conceptos b\u00e1sicos del lenguaje, incluyendo:\n",
                "- Variables y tipos de datos\n",
                "- Operadores aritm\u00e9ticos y l\u00f3gicos\n",
                "- Estructuras de control condicionales (`if`, `else`, `elif`)\n",
                "\n",
                "A trav\u00e9s de ejercicios pr\u00e1cticos, los estudiantes aprender\u00e1n a escribir c\u00f3digo y ejecutar scripts dentro de un entorno interactivo.\n",
                "\n",
                "\ud83d\udccc **Accede a la prueba final del M\u00f3dulo 1 aqu\u00ed:** [Prueba M\u00f3dulo 1](https://forms.gle/JBZ1vvbmMwuBVMQy5)\n"
            ]
        },
        {
            "cell_type": "markdown",
            "metadata": {},
            "source": [
                "## **M\u00f3dulo 2: Estructuras de Datos en Python**\n",
                "\n",
                "Esta prueba tiene como objetivo evaluar el conocimiento y comprensi\u00f3n de las estructuras de datos en Python, incluyendo:\n",
                "- Listas y tuplas\n",
                "- Diccionarios y conjuntos\n",
                "- Bucles en Python (`for` y `while`)\n",
                "- Comprensiones de listas\n",
                "\n",
                "A trav\u00e9s de preguntas de selecci\u00f3n m\u00faltiple, se medir\u00e1 la capacidad del estudiante para identificar, manipular y aplicar correctamente estas estructuras en problemas de programaci\u00f3n.\n",
                "\n",
                "\ud83d\udccc **Accede a la prueba final del M\u00f3dulo 2 aqu\u00ed:** [Prueba M\u00f3dulo 2](https://forms.gle/hcK1sSGcsf4qdMSCA)\n"
            ]
        }
    ],
    "metadata": {
        "kernelspec": {
            "display_name": "Python 3",
            "language": "python",
            "name": "python3"
        },
        "language_info": {
            "codemirror_mode": {
                "name": "ipython",
                "version": 3
            },
            "file_extension": ".py",
            "mimetype": "text/x-python",
            "name": "python",
            "nbconvert_exporter": "python",
            "pygments_lexer": "ipython3",
            "version": "3.8"
        }
    },
    "nbformat": 4,
    "nbformat_minor": 4
}