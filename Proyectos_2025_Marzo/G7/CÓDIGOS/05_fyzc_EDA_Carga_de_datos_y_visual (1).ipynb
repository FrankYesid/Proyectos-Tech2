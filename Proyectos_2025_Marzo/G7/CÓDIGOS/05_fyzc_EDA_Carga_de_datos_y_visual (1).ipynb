{
  "cells": [
    {
      "cell_type": "markdown",
      "metadata": {
        "id": "rdqpiKMhkP7s"
      },
      "source": [
        "# Analisis de Base de datos de música\n",
        "\n",
        "\n",
        "![](https://c.tenor.com/iczjaEFdW20AAAAC/spotify-music.gif)\n",
        "\n",
        "Detalles del Conjunto de Datos\\\n",
        "Conjunto de Datos de las Canciones más Escuchadas en Spotify\n",
        "Este conjunto de datos contiene información exhaustiva sobre algunas de las canciones más escuchadas en Spotify, enriquecida con información adicional de otras plataformas de streaming populares como Apple Music, Deezer y Shazam. Es ideal para analistas musicales, científicos de datos y entusiastas del aprendizaje automático que estén interesados en explorar tendencias y características de las canciones populares.\n",
        "\n",
        "## Características del Conjunto de Datos\n",
        "\n",
        "### Información Básica de la Canción:\n",
        "- track_name: Nombre de la canción.\n",
        "- artist(s)_name: Nombre del artista o artistas que interpretan la canción.\n",
        "- artist_count: Número de artistas que contribuyen a la canción.\n",
        "- released_year, released_month, released_day: Detalles de la fecha de lanzamiento.\n",
        "\n",
        "### Métricas de Streaming:\n",
        "- in_spotify_playlists: Número de listas de reproducción de Spotify en las que se incluye la canción.\n",
        "- in_spotify_charts: Rango de la canción en las listas de éxitos de Spotify.\n",
        "- streams: Número total de reproducciones en Spotify.\n",
        "- in_apple_playlists, in_apple_charts: Presencia en listas de reproducción y listas de éxitos de Apple Music.\n",
        "- in_deezer_playlists, in_deezer_charts: Presencia en listas de reproducción y listas de éxitos de Deezer.\n",
        "- in_shazam_charts: Rango en las listas de éxitos de Shazam.\n",
        "Atributos Musicales:\n",
        "- bpm: Tiempo por minuto, que representa el ritmo de la canción.\n",
        "- key: Tono de la canción.\n",
        "- mode: Indica si la canción está en modo mayor o menor.\n",
        "- danceability_%: Aptitud de la canción para bailar.\n",
        "- valence_%: Positividad del contenido musical de la canción.\n",
        "- energy_%: Nivel de energía percibida de la canción.\n",
        "- acousticness_%: Presencia de sonido acústico en la canción.\n",
        "- instrumentalness_%: Proporción de contenido instrumental en la pista.\n",
        "- liveness_%: Presencia de elementos de actuación en vivo.\n",
        "- speechiness_%: Cantidad de palabras habladas en la canción.\n",
        "\n",
        "\n",
        "Fuente: Kaggle\n",
        "<div style=\"text-align: left; margin: 20px;\">  \n",
        "  <a href=\"https://www.kaggle.com/datasets/abdulszz/spotify-most-streamed-songs\" target=\"_blank\" style=\"font-size: 24px; font-weight: bold; color: blue;\">Dataset de Spotify</a>  \n",
        "</div>\n"
      ]
    },
    {
      "cell_type": "markdown",
      "metadata": {
        "id": "1l7kjeHyV83C"
      },
      "source": [
        "## ✨ Autor  \n",
        "👨‍💻 **Frank Yesid**  \n",
        "📌 *Creador de este cuaderno interactivo*  \n",
        "📧 Contacto: [fyzapatac@gmail.com](mailto:fyzapatac@gmail.com)  \n",
        "🚀 *Este cuaderno ha sido diseñado para ayudarte a aprender y aplicar conceptos clave de programación y análisis de datos de manera práctica.* ¡Espero que lo disfrutes! 🎯"
      ]
    },
    {
      "cell_type": "code",
      "execution_count": null,
      "metadata": {
        "colab": {
          "base_uri": "https://localhost:8080/"
        },
        "id": "ZAqpC_lagM7e",
        "outputId": "55225536-1119-4c97-f2e3-30e68f83d33e"
      },
      "outputs": [
        {
          "output_type": "stream",
          "name": "stdout",
          "text": [
            "--2025-03-01 21:18:32--  https://docs.google.com/uc?export=download&confirm=&id=1spKQPvUR3PcOgebEXzWDhohxEN0sW2Dg\n",
            "Resolving docs.google.com (docs.google.com)... 74.125.195.138, 74.125.195.101, 74.125.195.100, ...\n",
            "Connecting to docs.google.com (docs.google.com)|74.125.195.138|:443... connected.\n",
            "HTTP request sent, awaiting response... 303 See Other\n",
            "Location: https://drive.usercontent.google.com/download?id=1spKQPvUR3PcOgebEXzWDhohxEN0sW2Dg&export=download [following]\n",
            "--2025-03-01 21:18:32--  https://drive.usercontent.google.com/download?id=1spKQPvUR3PcOgebEXzWDhohxEN0sW2Dg&export=download\n",
            "Resolving drive.usercontent.google.com (drive.usercontent.google.com)... 142.250.107.132, 2607:f8b0:400e:c0d::84\n",
            "Connecting to drive.usercontent.google.com (drive.usercontent.google.com)|142.250.107.132|:443... connected.\n",
            "HTTP request sent, awaiting response... 200 OK\n",
            "Length: 156547 (153K) [application/octet-stream]\n",
            "Saving to: ‘Spotify_Most_Streamed_Songs.csv’\n",
            "\n",
            "Spotify_Most_Stream 100%[===================>] 152.88K  --.-KB/s    in 0.002s  \n",
            "\n",
            "2025-03-01 21:18:34 (79.0 MB/s) - ‘Spotify_Most_Streamed_Songs.csv’ saved [156547/156547]\n",
            "\n"
          ]
        }
      ],
      "source": [
        "# @title Conexión con la base de datos desde una URL\n",
        "\n",
        "#@markdown - Forma 1 de descarga de archivos desde Google Drive con wget\n",
        "# Forma de descarga de archivos desde Google Drive con wget\n",
        "# Se requiere el uso de cookies para la autenticación\n",
        "# Se debe obtener el ID del archivo de Google Drive para poder descargarlo\n",
        "# Se usa el comando wget para descargar el archivo, gestionando las cookies\n",
        "# param url: URL de la base de datos\n",
        "# param nombre_archivo: Nombre del archivo a guardar\n",
        "\n",
        "# URL = 'https://drive.google.com/file/d/1spKQPvUR3PcOgebEXzWDhohxEN0sW2Dg/view?usp=sharing'\n",
        "# Definir el ID del archivo de Google Drive\n",
        "FILEID = '1spKQPvUR3PcOgebEXzWDhohxEN0sW2Dg'\n",
        "nombre_archivo = 'Spotify_Most_Streamed_Songs.csv'\n",
        "\n",
        "# Descargar el archivo usando wget, gestionando las cookies\n",
        "# Se usa --load-cookies para cargar las cookies guardadas temporalmente en /tmp/cookies.txt\n",
        "# Se hace una primera solicitud con wget para obtener el token de confirmación que Google Drive envía cuando el archivo es grande o muy accedido\n",
        "# El token se extrae usando sed (una utilidad para filtrar y procesar texto), que busca el patrón \"confirm=\" y captura el valor del token\n",
        "# Una vez obtenido el token de confirmación, se realiza la descarga completa del archivo\n",
        "# --no-check-certificate es usado para evitar errores de SSL (certificados) en entornos no seguros\n",
        "# El archivo se guarda como \"Spotify_Most_Streamed_Songs.csv\" . indicado con el nombre del archivo en la variable \"nombre_archivo\"\n",
        "# Finalmente, se eliminan las cookies temporales almacenadas en /tmp/cookies.txt\n",
        "\n",
        "# con esta instrucción se descarga el archivo desde Google Drive\n",
        "!wget --load-cookies /tmp/cookies.txt \"https://docs.google.com/uc?export=download&confirm=$(wget --quiet --save-cookies /tmp/cookies.txt --keep-session-cookies --no-check-certificate 'https://docs.google.com/uc?export=download&id='$FILEID -O- | sed -rn 's/.*confirm=([0-9A-Za-z_]+).*/\\1\\n/p')&id=\"$FILEID -O $nombre_archivo && rm -rf /tmp/cookies.txt\n"
      ]
    },
    {
      "cell_type": "code",
      "execution_count": null,
      "metadata": {
        "id": "RVBTBHlJws8C"
      },
      "outputs": [],
      "source": [
        "#@markdown - Forma 2 de descarga de archivos desde la misma fuente de datos\n",
        "# instalar la librería kagglehub para descargar archivos desde Kaggle\n",
        "%pip install kagglehub\n",
        "\n",
        "import os\n",
        "import shutil\n",
        "# Forma de descarga de archivos desde la misma fuente de datos\n",
        "import kagglehub\n",
        "\n",
        "# Conectar con kaggle\n",
        "FILEID = '1M8fB-SdAEZZ98_jEaM5ifyhlh9np3D99'\n",
        "nombre_archivo = 'kaggle.json'\n",
        "!wget --load-cookies /tmp/cookies.txt \"https://docs.google.com/uc?export=download&confirm=$(wget --quiet --save-cookies /tmp/cookies.txt --keep-session-cookies --no-check-certificate 'https://docs.google.com/uc?export=download&id='$FILEID -O- | sed -rn 's/.*confirm=([0-9A-Za-z_]+).*/\\1\\n/p')&id=\"$FILEID -O $nombre_archivo && rm -rf /tmp/cookies.txt\n",
        "\n",
        "# Crear la carpeta .kaggle si no existe\n",
        "os.makedirs(\"/root/.kaggle\", exist_ok=True)\n",
        "\n",
        "# Mover el archivo kaggle.json a la ubicación correcta\n",
        "shutil.move(\"kaggle.json\", \"/root/.kaggle/kaggle.json\")\n",
        "\n",
        "# Ajustar permisos\n",
        "os.chmod(\"/root/.kaggle/kaggle.json\", 600)\n",
        "\n",
        "# Download latest version\n",
        "path = kagglehub.dataset_download(\"abdulszz/spotify-most-streamed-songs\")\n",
        "# Imprimir la ruta de los archivos descargados\n",
        "print(\"Path to dataset files:\", path)\n"
      ]
    },
    {
      "cell_type": "code",
      "execution_count": null,
      "metadata": {
        "id": "0T4OnSXN41gq"
      },
      "outputs": [],
      "source": []
    },
    {
      "cell_type": "code",
      "execution_count": null,
      "metadata": {
        "id": "niLsK62Y42G3"
      },
      "outputs": [],
      "source": []
    },
    {
      "cell_type": "markdown",
      "metadata": {
        "id": "DxAXcBAz42eX"
      },
      "source": []
    },
    {
      "cell_type": "code",
      "execution_count": null,
      "metadata": {
        "id": "Ormxc6vM43Zx"
      },
      "outputs": [],
      "source": []
    },
    {
      "cell_type": "markdown",
      "metadata": {
        "id": "fvCpHlARj6Lw"
      },
      "source": [
        "# Desglose:\n",
        "\n",
        "- FILEID = '1M8fB-SdAEZZ98_jEaM5ifyhlh9np3D99': El ID del archivo de Google Drive que se desea descargar.\n",
        "- Primera llamada wget:\n",
        "Obtiene un token de confirmación cuando Google Drive requiere verificación extra para archivos grandes o descargados muchas veces.\\\n",
        "Usa sed para buscar y extraer el token de la respuesta de Google Drive.\n",
        "- Segunda llamada wget:\n",
        "Con el token, se realiza la descarga final del archivo.\\\n",
        "rm -rf /tmp/cookies.txt: Limpia las cookies temporales después de completar la descarga."
      ]
    },
    {
      "cell_type": "code",
      "execution_count": null,
      "metadata": {
        "id": "qs-A6JlzySUy"
      },
      "outputs": [],
      "source": [
        "# @title Instalar librerias a usar\n",
        "!pip install pandas-profiling\n",
        "%pip install sweetviz\n",
        "%pip install missingno"
      ]
    },
    {
      "cell_type": "code",
      "execution_count": null,
      "metadata": {
        "id": "mJ0N-6qPrDMg"
      },
      "outputs": [],
      "source": [
        "# @title Carga de librerias\n",
        "# Bibliotecas utilizadas\n",
        "# ----------------------------------------------------------------------------\n",
        "# pandas (pd): librería para el análisis de datos\n",
        "# matplotlib (plt): librería para crear gráficos\n",
        "# seaborn (sns): librería para visualizar datos de manera estética\n",
        "# Sweetviz (sw): Una biblioteca de análisis y visualización de datos en Python.\n",
        "# files : Importa la función para subir y descargar archivos en Google Colab.\n",
        "import os\n",
        "import pandas as pd\n",
        "import matplotlib.pyplot as plt\n",
        "import seaborn as sns\n",
        "import sweetviz as sw\n",
        "from google.colab import files\n",
        "import numpy as np\n",
        "import missingno as msno"
      ]
    },
    {
      "cell_type": "code",
      "execution_count": null,
      "metadata": {
        "id": "WRG1qDjTsJgS",
        "cellView": "form"
      },
      "outputs": [],
      "source": [
        "# @title Cargamos las funciones relacionadas\n",
        "def analizar_columnas(df):\n",
        "  \"\"\"\n",
        "  Analiza las columnas de un DataFrame y devuelve información estadística.\n",
        "\n",
        "  Parámetros:\n",
        "  df (DataFrame): El DataFrame a analizar.\n",
        "\n",
        "  Retorno:\n",
        "  Un DataFrame con la información estadística de cada columna.\n",
        "\n",
        "  Ejemplo:\n",
        "  df_analizado = analizar_columnas(df)\n",
        "  print(df_analizado)\n",
        "  \"\"\"\n",
        "  info = []\n",
        "  for columna in df.columns:\n",
        "    unicos = df[columna].nunique()\n",
        "    nulos = df[columna].isnull().sum()\n",
        "    total = len(df)\n",
        "    porcentaje_nulos = (nulos / total) * 100\n",
        "    info.append({\n",
        "      'Columna': columna,\n",
        "      'Cantidad de registros': total,\n",
        "      'Únicos': unicos,\n",
        "      'Cantidad de nulos': nulos,\n",
        "      'Porcentaje de nulos': porcentaje_nulos,\n",
        "      'Registros relacionados con nulos': total - nulos\n",
        "    })\n",
        "  return pd.DataFrame(info)\n"
      ]
    },
    {
      "cell_type": "markdown",
      "metadata": {
        "id": "Ddszz1HTukbK"
      },
      "source": [
        "# Sección 1"
      ]
    },
    {
      "cell_type": "markdown",
      "metadata": {
        "id": "N0epiXRHgM7g"
      },
      "source": [
        "### Paso 1: Cargar el archivo CSV"
      ]
    },
    {
      "cell_type": "code",
      "execution_count": null,
      "metadata": {
        "id": "XWMohcyogM7i"
      },
      "outputs": [],
      "source": [
        "# @title Cargar el archivo CSV de canciones de Spotify\n",
        "# Ubicación en donde se almacena en drive\n",
        "file_path_drive = 'Spotify_Most_Streamed_Songs.csv'\n",
        "spotify_df = pd.read_csv(file_path_drive)\n",
        "\n",
        "# Mostrar las primeras filas del archivo para ver cómo están organizados los datos\n",
        "print(\"Primeras 5 filas de los datos de Spotify:\")\n",
        "spotify_df.head()\n"
      ]
    },
    {
      "cell_type": "code",
      "execution_count": null,
      "metadata": {
        "id": "wMvvk6qD1GeI"
      },
      "outputs": [],
      "source": [
        "# Ubicación en donde se almacena la base de datos de kaggle\n",
        "\n",
        "path = \"/root/.cache/kagglehub/datasets/abdulszz/spotify-most-streamed-songs/versions/2\"\n",
        "print(os.listdir(path))\n"
      ]
    },
    {
      "cell_type": "code",
      "execution_count": null,
      "metadata": {
        "id": "Ro7_vVDp2srL"
      },
      "outputs": [],
      "source": [
        "# Ubicación en donde se almacena en drive\n",
        "file_path_drive = path+'/Spotify Most Streamed Songs.csv'\n",
        "spotify_df = pd.read_csv(file_path_drive)\n",
        "\n",
        "# Mostrar las primeras filas del archivo para ver cómo están organizados los datos\n",
        "print(\"Primeras 5 filas de los datos de Spotify:\")\n",
        "spotify_df.head()\n"
      ]
    },
    {
      "cell_type": "code",
      "execution_count": null,
      "metadata": {
        "id": "3518PtFZgM7i"
      },
      "outputs": [],
      "source": [
        "# @title Visualización de composición de la base de datos.\n",
        "spotify_df.info()"
      ]
    },
    {
      "cell_type": "markdown",
      "metadata": {
        "id": "rfNwFfvGgM7j"
      },
      "source": [
        "### Paso 2: Explorar los datos\n",
        "\n",
        "Vamos a verificar la estructura de los datos, la cantidad de filas y columnas, así como cualquier dato vacío."
      ]
    },
    {
      "cell_type": "code",
      "execution_count": null,
      "metadata": {
        "id": "8ymg5OTqgM7j"
      },
      "outputs": [],
      "source": [
        "# @title Verificar la forma de los datos\n",
        "print(f\"Forma de los datos (filas, columnas): {spotify_df.shape}\")"
      ]
    },
    {
      "cell_type": "code",
      "execution_count": null,
      "metadata": {
        "id": "DFCf3T3LgM7j"
      },
      "outputs": [],
      "source": [
        "# @title Verificar los tipos de datos de cada columna\n",
        "print(\"\\nTipos de datos por columna:\")\n",
        "print(spotify_df.dtypes)"
      ]
    },
    {
      "cell_type": "code",
      "execution_count": null,
      "metadata": {
        "id": "DOLeQz8PgM7k"
      },
      "outputs": [],
      "source": [
        "#@title Contar los valores únicos por columna\n",
        "print(\"\\nValores únicos por columna:\")\n",
        "print(spotify_df.nunique())\n"
      ]
    },
    {
      "cell_type": "code",
      "execution_count": null,
      "metadata": {
        "id": "S4Z8YusEgM7k"
      },
      "outputs": [],
      "source": [
        "#@title Verificar si hay datos faltantes\n",
        "print(\"\\nDatos faltantes por columna:\")\n",
        "print(spotify_df.isnull().sum())\n"
      ]
    },
    {
      "cell_type": "code",
      "execution_count": null,
      "metadata": {
        "id": "iu3_6f7FrkqZ"
      },
      "outputs": [],
      "source": [
        "# @title Verificación de los campos con relación a la composición de la base de dato almacenada en formato CSV\n",
        "df_analizado = analizar_columnas(spotify_df)\n",
        "df_analizado"
      ]
    },
    {
      "cell_type": "code",
      "execution_count": null,
      "metadata": {
        "id": "IcH-ZDJOgM7k"
      },
      "outputs": [],
      "source": [
        "# @title Realizamos la descriptiva estadística\n",
        "spotify_df.describe()"
      ]
    },
    {
      "cell_type": "code",
      "execution_count": null,
      "metadata": {
        "id": "flJPNHttws8O"
      },
      "outputs": [],
      "source": [
        "# Visualizar valores nulos con un gráfico de barras\n",
        "msno.bar(spotify_df)\n"
      ]
    },
    {
      "cell_type": "code",
      "execution_count": null,
      "metadata": {
        "id": "-_-Bzn31ws8Q"
      },
      "outputs": [],
      "source": [
        "# Visualizar matriz de valores faltantes\n",
        "msno.matrix(spotify_df)"
      ]
    },
    {
      "cell_type": "code",
      "execution_count": null,
      "metadata": {
        "id": "Rpr2rgotws8Q"
      },
      "outputs": [],
      "source": [
        "# Visualizar dendrograma para identificar patrones de valores faltantes\n",
        "msno.dendrogram(spotify_df)"
      ]
    },
    {
      "cell_type": "markdown",
      "metadata": {
        "id": "r5J4Hj2SEbRL"
      },
      "source": [
        "# Sección 2"
      ]
    },
    {
      "cell_type": "markdown",
      "metadata": {
        "id": "MxlWM2x1gM7k"
      },
      "source": [
        "### Paso 3: Graficar distribuciones\n"
      ]
    },
    {
      "cell_type": "markdown",
      "metadata": {
        "id": "EvHuk5TngM7l"
      },
      "source": [
        "Ahora, vamos a generar gráficos para visualizar algunas características de las canciones, como la distribución de la popularidad, la cantidad de reproducciones, y cualquier otra métrica relevante."
      ]
    },
    {
      "cell_type": "code",
      "execution_count": null,
      "metadata": {
        "id": "aQHu6XesopNF"
      },
      "outputs": [],
      "source": [
        "# @title Visualización de cantidad de canciones por artista\n",
        "spotify_df['artist(s)_name'].value_counts(ascending=False)"
      ]
    },
    {
      "cell_type": "code",
      "execution_count": null,
      "metadata": {
        "cellView": "form",
        "id": "cQjfOguBpLok"
      },
      "outputs": [],
      "source": [
        "# @title seleccionamos los 10 primeros\n",
        "Cantidad_de_artistas = 10\n",
        "spotify_df['artist(s)_name'].value_counts(ascending=False).iloc[:Cantidad_de_artistas]\n"
      ]
    },
    {
      "cell_type": "code",
      "execution_count": null,
      "metadata": {
        "cellView": "form",
        "id": "QfIDzo1WpT-9"
      },
      "outputs": [],
      "source": [
        "# @title seleccionamos los últimos 10\n",
        "Cantidad_de_artistas = 10\n",
        "spotify_df['artist(s)_name'].value_counts(ascending=False).iloc[-Cantidad_de_artistas:]\n"
      ]
    },
    {
      "cell_type": "markdown",
      "metadata": {
        "id": "esES_08vws8T"
      },
      "source": [
        "#### Visualización de la información disponible:"
      ]
    },
    {
      "cell_type": "code",
      "execution_count": null,
      "metadata": {
        "id": "ZzNSMrRogM7l"
      },
      "outputs": [],
      "source": [
        "# @title 3.1 Histograma de la Popularidad\n",
        "# Crear el gráfico Histograma seleccionando los 10 primeros artistas\n",
        "Cantidad_de_artistas = 10\n",
        "spotify_df['artist(s)_name'].value_counts().iloc[:Cantidad_de_artistas].sort_values().plot(kind='barh', figsize=(3, 5), color='green', alpha=0.7)\n",
        "\n",
        "# Agregar título y etiquetas\n",
        "plt.title('Distribución de Artistas')\n",
        "plt.xlabel('Cantidad')\n",
        "plt.ylabel('Artista')\n",
        "\n",
        "# Mostrar el gráfico\n",
        "plt.show()"
      ]
    },
    {
      "cell_type": "markdown",
      "metadata": {
        "id": "p-6S4cStpowB"
      },
      "source": [
        "4."
      ]
    },
    {
      "cell_type": "code",
      "execution_count": null,
      "metadata": {
        "id": "ECcWDZNIpofB"
      },
      "outputs": [],
      "source": [
        "# @title Distribución de géneros musicales\n",
        "Cantidad_de_artistas = 10\n",
        "# Crear el gráfico de barras\n",
        "plt.figure(figsize=(10, 6))\n",
        "spotify_df['artist(s)_name'].value_counts().iloc[:Cantidad_de_artistas].plot(kind='bar')\n",
        "plt.title('Distribución de géneros musicales')\n",
        "plt.xlabel('Cantantes')\n",
        "plt.ylabel('Frecuencia')\n",
        "plt.show()\n"
      ]
    },
    {
      "cell_type": "code",
      "execution_count": null,
      "metadata": {
        "id": "mhhyhZKtwH8A"
      },
      "outputs": [],
      "source": [
        "#@title Evolución de la popularidad en Spotify\n",
        "plt.figure(figsize=(10, 6))\n",
        "spotify_df.groupby('released_year')['in_spotify_playlists'].sum().plot(kind='line')\n",
        "plt.title('Evolución de la popularidad en Spotify')\n",
        "plt.xlabel('Año')\n",
        "plt.ylabel('Playlists')\n",
        "plt.show()\n"
      ]
    },
    {
      "cell_type": "code",
      "execution_count": null,
      "metadata": {
        "id": "4O6LmizZwOMj"
      },
      "outputs": [],
      "source": [
        "#@title Relación entre la danzabilidad y la energía\n",
        "plt.figure(figsize=(10, 6))\n",
        "plt.scatter(spotify_df['danceability_%'], spotify_df['energy_%'])\n",
        "plt.title('Relación entre la danzabilidad y la energía')\n",
        "plt.xlabel('danzabilidad')\n",
        "plt.ylabel('Energía')\n",
        "plt.show()"
      ]
    },
    {
      "cell_type": "code",
      "execution_count": null,
      "metadata": {
        "id": "h4sDIjXNwJiV"
      },
      "outputs": [],
      "source": [
        "#@title Distribución de la valencia\n",
        "plt.figure(figsize=(10, 6))\n",
        "spotify_df['valence_%'].hist()\n",
        "plt.title('Distribución de la valencia')\n",
        "plt.xlabel('Valencia')\n",
        "plt.ylabel('Frecuencia')\n",
        "plt.show()\n"
      ]
    },
    {
      "cell_type": "code",
      "execution_count": null,
      "metadata": {
        "id": "y53MteO_wKmN"
      },
      "outputs": [],
      "source": [
        "#@title Relación entre la acústica y la instrumentalidad\n",
        "plt.figure(figsize=(10, 6))\n",
        "plt.scatter(spotify_df['acousticness_%'], spotify_df['instrumentalness_%'])\n",
        "plt.title('Relación entre la acústica y la instrumentalidad')\n",
        "plt.xlabel('Acústica')\n",
        "plt.ylabel('Instrumentalidad')\n",
        "plt.show()\n"
      ]
    },
    {
      "cell_type": "code",
      "execution_count": null,
      "metadata": {
        "id": "M4XFpppry50A"
      },
      "outputs": [],
      "source": [
        "#@title Relación entre la reproducciones y la Acústica\n",
        "plt.figure(figsize=(10, 6))\n",
        "plt.scatter(spotify_df['streams'], spotify_df['acousticness_%'])\n",
        "plt.title('Relación entre la reporoducciones y la Acústica')\n",
        "plt.ylabel('Acústica')\n",
        "plt.xlabel('Reproducciones')\n",
        "plt.show()\n"
      ]
    },
    {
      "cell_type": "code",
      "execution_count": null,
      "metadata": {
        "id": "kZtDlbKDwLqb"
      },
      "outputs": [],
      "source": [
        "#@title Popularidad de las canciones en Apple y Spotify\n",
        "plt.figure(figsize=(30, 6))\n",
        "Cantidad_de_artistas = 20\n",
        "spotify_df.groupby('artist(s)_name')['in_spotify_playlists'].sum().sort_values().iloc[:Cantidad_de_artistas].plot(kind='bar')\n",
        "plt.title('Popularidad de las canciones en Apple y Spotify')\n",
        "plt.xlabel('Playlists en Apple')\n",
        "plt.ylabel('Playlists en Spotify')\n",
        "plt.show()"
      ]
    },
    {
      "cell_type": "code",
      "execution_count": null,
      "metadata": {
        "id": "XzHfgd9l8ffP"
      },
      "outputs": [],
      "source": [
        "# @title como seleccionar los artistas con más canciones\n",
        "spotify_df['artist(s)_name'].value_counts().iloc[:Cantidad_de_artistas].index.tolist()"
      ]
    },
    {
      "cell_type": "code",
      "execution_count": null,
      "metadata": {
        "id": "q1B5Nt2L0xpE"
      },
      "outputs": [],
      "source": [
        "# @title Grafica de Boxplot composición de la base de datos\n",
        "plt.figure(figsize=(10, 6))\n",
        "# Seleccionar los cantantes con mayor cantidad de canciones\n",
        "nombres_artistas = spotify_df['artist(s)_name'].value_counts().iloc[:Cantidad_de_artistas].index.tolist()\n",
        "\n",
        "sns.boxplot(x='artist(s)_name', y='bpm', data=spotify_df[spotify_df['artist(s)_name'].isin(nombres_artistas)])\n",
        "plt.title('Boxplot de Artistas vs. bpm')\n",
        "plt.xlabel('Artistas')\n",
        "plt.ylabel('bpm')\n",
        "plt.xticks(rotation=90)\n",
        "plt.show()\n"
      ]
    },
    {
      "cell_type": "code",
      "execution_count": null,
      "metadata": {
        "id": "wDzz3-kQ3D2_"
      },
      "outputs": [],
      "source": [
        "#@title Seleccionar solo las columnas numéricas del DataFrame\n",
        "numeric_cols = spotify_df.select_dtypes(include=['number'])\n",
        "\n",
        "# Calcular la matriz de correlación\n",
        "conf_matrix = numeric_cols.corr()\n",
        "\n",
        "# Mostrar la matriz de correlación\n",
        "conf_matrix\n"
      ]
    },
    {
      "cell_type": "code",
      "execution_count": null,
      "metadata": {
        "id": "GuJbgheP3kMx"
      },
      "outputs": [],
      "source": [
        "# @title Visualización de la correlación entre variables numéricas\n",
        "import matplotlib.pyplot as plt\n",
        "plt.figure(figsize=(12, 10))\n",
        "sns.heatmap(conf_matrix, annot=True, cmap='coolwarm', fmt=\".2f\")\n",
        "plt.title('Matriz de Correlación')\n",
        "plt.show()\n"
      ]
    },
    {
      "cell_type": "code",
      "execution_count": null,
      "metadata": {
        "id": "9RS8Qpf1uoNC"
      },
      "outputs": [],
      "source": [
        "# @title Análisis exploratorio de datos (EDA)\n",
        "#Configurar las opciones de visualizacion Sweetviz\n",
        "sw.config_parser.read_string(\"\"\"\n",
        "                              [Output_Defaults]\n",
        "                              html_layout = widescreen\n",
        "                              html_scale = 1.0\n",
        "                              notebook_layout = widescreen\n",
        "                              notebook_scale = 0.9\n",
        "                              notebook_width = 100%\n",
        "                              notebook_height = 700\n",
        "                              [Layout]\n",
        "                              show_logo = 0\n",
        "                              \"\"\")\n",
        "nombre = 'Spotify'\n",
        "advert_report = sw.analyze([spotify_df, nombre]) # Realizamos el análisis de la base de datos inicial\n",
        "\n",
        "#@markdown Guardar y mostrar reporte formato HTML\n",
        "advert_report.show_html('EDA_df_spotify.html')\n",
        "\n",
        "#@markdown Descarga y abre el reporte en una nueva pestaña del navegador\n",
        "almacenar_archivo = input('Alamcenar archivo Si o No: ').title()\n",
        "if almacenar_archivo == 'Si':\n",
        "  files.download('/content/EDA_df_spotify.html')"
      ]
    },
    {
      "cell_type": "code",
      "execution_count": null,
      "metadata": {
        "id": "K9p0w8a36SZw"
      },
      "outputs": [],
      "source": [
        "#@title La función advert_report.show_notebook en Sweetviz muestra el reporte de análisis exploratorio de datos (EDA) en un notebook Jupyter.\n",
        "\n",
        "# Parámetros:\n",
        "\n",
        "# layout: ajusta el diseño ( 'widescreen' o 'full screen' )\n",
        "# w y h: ajusta el ancho y alto en píxeles\n",
        "# scale: ajusta el tamaño (0.9 = 90% de la resolución original)\n",
        "advert_report.show_notebook(layout='widescreen', w=1500, h=500, scale=0.9)"
      ]
    },
    {
      "cell_type": "code",
      "execution_count": null,
      "metadata": {
        "id": "J5oYmJlN9g8Q"
      },
      "outputs": [],
      "source": [
        "#@title La función advert_report.show_notebook muestra el reporte de análisis exploratorio de datos (EDA) en un notebook Jupyter, con el siguiente formato:\n",
        "\n",
        "# layout='vertical': muestra los datos en una columna vertical\n",
        "# w=1400 y h=500: ajusta el ancho y alto del reporte a 1400x500 píxeles\n",
        "# scale=0.9: muestra el reporte a un 90% de su tamaño original\n",
        "advert_report.show_notebook(layout='vertical', w=1400, h=500, scale=0.9)"
      ]
    },
    {
      "cell_type": "code",
      "execution_count": null,
      "metadata": {
        "id": "FIoTjeUvAERF"
      },
      "outputs": [],
      "source": [
        "# Visualizando la variación del bpm\n",
        "spotify_df.bpm.describe()"
      ]
    },
    {
      "cell_type": "code",
      "execution_count": null,
      "metadata": {
        "id": "RTD9PxiHAU6O"
      },
      "outputs": [],
      "source": [
        "#@title Calcular la media de la columna 'bpm'\n",
        "media_bpm = spotify_df.bpm.mean()\n",
        "\n",
        "# Seleccionar registros por encima de la media\n",
        "registros_encima_media = spotify_df[spotify_df.bpm > media_bpm]\n",
        "\n",
        "# Seleccionar registros por debajo de la media\n",
        "registros_debajo_media = spotify_df[spotify_df.bpm < media_bpm]\n",
        "\n",
        "# Mostrar la cantidad de registros en cada grupo\n",
        "print(f\"Registros por encima de la media: {len(registros_encima_media)}\")\n",
        "print(f\"Registros por debajo de la media: {len(registros_debajo_media)}\")\n",
        "\n",
        "# Puedes trabajar con estos nuevos DataFrames 'registros_encima_media' y 'registros_debajo_media'\n",
        "# para realizar análisis específicos sobre los registros que cumplen cada condición.\n"
      ]
    },
    {
      "cell_type": "code",
      "execution_count": null,
      "metadata": {
        "id": "coulHj9w6Hdr",
        "colab": {
          "base_uri": "https://localhost:8080/",
          "height": 101,
          "referenced_widgets": [
            "6944468b2fcc40acb50412a9ccf63a9e",
            "aa19a80745cd442abb9b42a2db93422b",
            "13555d14189d48aebdec7699ee8862bf",
            "e217ab47b2854d14bc473b2bc85077d2",
            "878a799ad25043be98d9c2c7d03a95f6",
            "99be7652e1454b1b945ccf933c29324c",
            "d46b2cf654a542e9854d8f54127d22cc",
            "cf70ffe7c5914bfd9dc2a17c7dcc9340",
            "7b51fdaeef1c4638915ea96d3ab2ff9f",
            "903d530dfe1e4315b52823671609014e",
            "843c33e870a144ca89044836cf82b437"
          ]
        },
        "outputId": "43a8f8f3-7b3c-4098-cd07-115ef4c16180"
      },
      "outputs": [
        {
          "data": {
            "application/vnd.jupyter.widget-view+json": {
              "model_id": "6944468b2fcc40acb50412a9ccf63a9e",
              "version_major": 2,
              "version_minor": 0
            },
            "text/plain": [
              "                                             |          | [  0%]   00:00 -> (? left)"
            ]
          },
          "metadata": {},
          "output_type": "display_data"
        },
        {
          "name": "stdout",
          "output_type": "stream",
          "text": [
            "Report EDA_df_spoptify_comparativa_bpm.html was generated! NOTEBOOK/COLAB USERS: the web browser MAY not pop up, regardless, the report IS saved in your notebook/colab files.\n",
            "Alamcenar archivo Si o No: SI\n"
          ]
        },
        {
          "output_type": "display_data",
          "data": {
            "text/plain": [
              "<IPython.core.display.Javascript object>"
            ],
            "application/javascript": [
              "\n",
              "    async function download(id, filename, size) {\n",
              "      if (!google.colab.kernel.accessAllowed) {\n",
              "        return;\n",
              "      }\n",
              "      const div = document.createElement('div');\n",
              "      const label = document.createElement('label');\n",
              "      label.textContent = `Downloading \"${filename}\": `;\n",
              "      div.appendChild(label);\n",
              "      const progress = document.createElement('progress');\n",
              "      progress.max = size;\n",
              "      div.appendChild(progress);\n",
              "      document.body.appendChild(div);\n",
              "\n",
              "      const buffers = [];\n",
              "      let downloaded = 0;\n",
              "\n",
              "      const channel = await google.colab.kernel.comms.open(id);\n",
              "      // Send a message to notify the kernel that we're ready.\n",
              "      channel.send({})\n",
              "\n",
              "      for await (const message of channel.messages) {\n",
              "        // Send a message to notify the kernel that we're ready.\n",
              "        channel.send({})\n",
              "        if (message.buffers) {\n",
              "          for (const buffer of message.buffers) {\n",
              "            buffers.push(buffer);\n",
              "            downloaded += buffer.byteLength;\n",
              "            progress.value = downloaded;\n",
              "          }\n",
              "        }\n",
              "      }\n",
              "      const blob = new Blob(buffers, {type: 'application/binary'});\n",
              "      const a = document.createElement('a');\n",
              "      a.href = window.URL.createObjectURL(blob);\n",
              "      a.download = filename;\n",
              "      div.appendChild(a);\n",
              "      a.click();\n",
              "      div.remove();\n",
              "    }\n",
              "  "
            ]
          },
          "metadata": {}
        },
        {
          "output_type": "display_data",
          "data": {
            "text/plain": [
              "<IPython.core.display.Javascript object>"
            ],
            "application/javascript": [
              "download(\"download_a11b53f0-c21e-45f5-a455-d986a8c663fc\", \"EDA_df_spoptify_comparativa_bpm.html\", 2516789)"
            ]
          },
          "metadata": {}
        }
      ],
      "source": [
        "# @title Segmentación de base de datos\n",
        "# Selección de registros con bpm\n",
        "# @markdown Análisis exploratorio de datos (EDA)\n",
        "#Configurar las opciones de visualizacion Sweetviz\n",
        "sw.config_parser.read_string(\"\"\"\n",
        "                              [Output_Defaults]\n",
        "                              html_layout = widescreen\n",
        "                              html_scale = 1.0\n",
        "                              notebook_layout = widescreen\n",
        "                              notebook_scale = 0.9\n",
        "                              notebook_width = 100%\n",
        "                              notebook_height = 700\n",
        "                              [Layout]\n",
        "                              show_logo = 0\n",
        "                              \"\"\")\n",
        "base1 = 'registros_encima_media_bpm'\n",
        "base2 = 'registros_debajo_media_bpm'\n",
        "advert_report = sw.compare([registros_encima_media, base1], [registros_debajo_media, base2]) # Realizamos el análisis de la base de datos inicial\n",
        "\n",
        "#@markdown Guardar y mostrar reporte formato HTML\n",
        "advert_report.show_html('EDA_df_spoptify_comparativa_bpm.html')\n",
        "\n",
        "#@markdown Descarga y abre el reporte en una nueva pestaña del navegador\n",
        "almacenar_archivo = input('Alamcenar archivo Si o No: ').title()\n",
        "if almacenar_archivo == 'Si':\n",
        "  files.download('/content/EDA_df_spoptify_comparativa_bpm.html')"
      ]
    },
    {
      "cell_type": "code",
      "source": [],
      "metadata": {
        "id": "Ekyt6SaXbiA6"
      },
      "execution_count": null,
      "outputs": []
    },
    {
      "cell_type": "code",
      "execution_count": null,
      "metadata": {
        "id": "GfOaCdNUBZM-"
      },
      "outputs": [],
      "source": [
        "#@title La función advert_report.show_notebook en Sweetviz muestra el reporte de análisis exploratorio de datos (EDA) en un notebook Jupyter.\n",
        "\n",
        "# Parámetros:\n",
        "\n",
        "# layout: ajusta el diseño ( 'widescreen' o 'full screen' )\n",
        "# w y h: ajusta el ancho y alto en píxeles\n",
        "# scale: ajusta el tamaño (0.9 = 90% de la resolución original)\n",
        "advert_report.show_notebook(layout='widescreen', w=1500, h=500, scale=0.9)"
      ]
    },
    {
      "cell_type": "code",
      "execution_count": null,
      "metadata": {
        "id": "obIjxIxZ-sah"
      },
      "outputs": [],
      "source": [
        "# @title Seleccionar solo las columnas numéricas del DataFrame\n",
        "numeric_cols"
      ]
    },
    {
      "cell_type": "code",
      "execution_count": null,
      "metadata": {
        "id": "h_yiPc7nEKDH"
      },
      "outputs": [],
      "source": []
    },
    {
      "cell_type": "code",
      "execution_count": null,
      "metadata": {
        "cellView": "form",
        "id": "oBUfcNG2-NpW"
      },
      "outputs": [],
      "source": [
        "#@title Seleccionar solo las columnas numéricas del DataFrame\n",
        "numeric_cols = spotify_df.select_dtypes(include=['number'])\n",
        "\n",
        "# Calcular la matriz de correlación\n",
        "correlation_matrix = numeric_cols.corr()\n",
        "\n",
        "# Crear un mapa de calor con Seaborn\n",
        "plt.figure(figsize=(12, 10))\n",
        "sns.heatmap(correlation_matrix, annot=True, cmap='coolwarm', fmt=\".2f\")\n",
        "plt.title('Mapa de Calor de Correlación entre Variables Numéricas')\n",
        "plt.show()\n"
      ]
    },
    {
      "cell_type": "code",
      "execution_count": null,
      "metadata": {
        "id": "Uj18PbnP-zHO"
      },
      "outputs": [],
      "source": [
        "# @title La función describe() en pandas es utilizada para obtener un resumen estadístico de las columnas numéricas de un DataFrame.\n",
        "\n",
        "# Resumen estadístico:\n",
        "\n",
        "# count: número de valores no nulos\n",
        "# mean: media aritmética\n",
        "# std: desviación estándar\n",
        "# min: valor mínimo\n",
        "# 25%: percentil 25 (cuartil inferior)\n",
        "# 50%: percentil 50 (media)\n",
        "# 75%: percentil 75 (cuartil superior)\n",
        "# max: valor máximo\n",
        "\n",
        "numeric_cols.describe()"
      ]
    },
    {
      "cell_type": "code",
      "execution_count": null,
      "metadata": {
        "id": "HjhYlk2v_J1p"
      },
      "outputs": [],
      "source": [
        "#@title visualizar la varianza de las variables numericas con numeric_cols.var() en barras y en linea juntas\n",
        "\n",
        "# Calcular la varianza de las columnas numéricas\n",
        "variance = numeric_cols.var()\n",
        "\n",
        "# Crear el gráfico de barras\n",
        "plt.figure(figsize=(10, 6))\n",
        "plt.bar(variance.index, variance.values)\n",
        "plt.title('Varianza de las variables numéricas (Barras)')\n",
        "plt.xlabel('Variables')\n",
        "plt.ylabel('Varianza')\n",
        "plt.xticks(rotation=90)\n",
        "plt.show()\n",
        "\n",
        "# Crear el gráfico de línea\n",
        "plt.figure(figsize=(10, 6))\n",
        "plt.plot(variance.index, variance.values)\n",
        "plt.title('Varianza de las variables numéricas (Línea)')\n",
        "plt.xlabel('Variables')\n",
        "plt.ylabel('Varianza')\n",
        "plt.xticks(rotation=90)\n",
        "plt.show()\n"
      ]
    },
    {
      "cell_type": "code",
      "execution_count": null,
      "metadata": {
        "id": "6vHOTX5W-dJA"
      },
      "outputs": [],
      "source": [
        "# @title selección de columnas con mayor varianza\n",
        "numeric_cols.loc[:, numeric_cols.var() > numeric_cols.var().quantile(0.75)]"
      ]
    },
    {
      "cell_type": "code",
      "execution_count": null,
      "metadata": {
        "id": "4ZP6F6iI-RCj"
      },
      "outputs": [],
      "source": [
        "#@title visualizar mapa de calor entre 2 variables numericas, con mayor variabilidad\n",
        "\n",
        "# Seleccionar las columnas numéricas con mayor varianza\n",
        "numeric_cols_high_variance = numeric_cols.loc[:, numeric_cols.var() > numeric_cols.var().quantile(0.75)]\n",
        "\n",
        "# Calcular la matriz de correlación para las columnas seleccionadas\n",
        "correlation_matrix_high_variance = numeric_cols_high_variance.corr()\n",
        "\n",
        "# Crear el mapa de calor\n",
        "plt.figure(figsize=(10, 8))\n",
        "sns.heatmap(correlation_matrix_high_variance, annot=True, cmap='coolwarm', fmt=\".2f\")\n",
        "plt.title('Mapa de Calor de Correlación (Variables con Mayor Varianza)')\n",
        "plt.show()\n"
      ]
    },
    {
      "cell_type": "code",
      "execution_count": null,
      "metadata": {
        "id": "gCIrkfEvCKwH"
      },
      "outputs": [],
      "source": [
        "# @title graficas para variables numéricas lo siguiente sns.pairplot(tips) y que seleccione una cantidad de variables con mayor variación\n",
        "\n",
        "# Seleccionar las columnas numéricas con mayor varianza\n",
        "numeric_cols_high_variance = numeric_cols.loc[:, numeric_cols.var() > numeric_cols.var().quantile(0.75)]\n",
        "\n",
        "# Crear el pairplot con Seaborn para las columnas seleccionadas\n",
        "sns.pairplot(numeric_cols_high_variance)\n",
        "plt.suptitle('Pairplot de Variables Numéricas con Mayor Varianza', y=1.02)\n",
        "plt.show()\n"
      ]
    },
    {
      "cell_type": "code",
      "execution_count": null,
      "metadata": {
        "id": "4m6kB8ZlC6t9"
      },
      "outputs": [],
      "source": [
        "numeric_cols_high_variance"
      ]
    },
    {
      "cell_type": "code",
      "execution_count": null,
      "metadata": {
        "cellView": "form",
        "id": "m3xTmwngDkSR"
      },
      "outputs": [],
      "source": [
        "# @title Grafica\n",
        "# Seleccionar las columnas numéricas con mayor varianza\n",
        "numeric_cols_high_variance = numeric_cols.loc[:, numeric_cols.var() > numeric_cols.var().quantile(0.75)]\n",
        "\n",
        "# Crear el PairGrid con Seaborn para las columnas seleccionadas\n",
        "g = sns.PairGrid(numeric_cols_high_variance)\n",
        "g.map(plt.scatter)\n",
        "plt.suptitle('PairGrid de Variables Numéricas con Mayor Varianza', y=1.02)\n",
        "plt.show()\n"
      ]
    },
    {
      "cell_type": "code",
      "execution_count": null,
      "metadata": {
        "cellView": "form",
        "id": "VeMaSC0HCiF3"
      },
      "outputs": [],
      "source": [
        "#@title graficar las variables\n",
        "\n",
        "# Crear una tabla dinámica con las columnas seleccionadas\n",
        "pvflights = spotify_df.pivot_table(values='bpm', index='in_apple_playlists', columns='in_spotify_playlists')\n",
        "\n",
        "# Crear el mapa de calor con Seaborn\n",
        "plt.figure(figsize=(12, 10))\n",
        "sns.heatmap(pvflights)\n",
        "plt.title('Mapa de Calor de las variables con mayor varianza')\n",
        "plt.show()\n"
      ]
    },
    {
      "cell_type": "markdown",
      "metadata": {
        "id": "imOuvHtGmBjA"
      },
      "source": [
        "![](https://i.pinimg.com/originals/88/66/7e/88667eaf29f1bbf12d64abaaeae6caa2.gif)"
      ]
    }
  ],
  "metadata": {
    "colab": {
      "provenance": []
    },
    "kernelspec": {
      "display_name": "base",
      "language": "python",
      "name": "python3"
    },
    "language_info": {
      "codemirror_mode": {
        "name": "ipython",
        "version": 3
      },
      "file_extension": ".py",
      "mimetype": "text/x-python",
      "name": "python",
      "nbconvert_exporter": "python",
      "pygments_lexer": "ipython3",
      "version": "3.12.4"
    },
    "widgets": {
      "application/vnd.jupyter.widget-state+json": {
        "6944468b2fcc40acb50412a9ccf63a9e": {
          "model_module": "@jupyter-widgets/controls",
          "model_name": "HBoxModel",
          "model_module_version": "1.5.0",
          "state": {
            "_dom_classes": [],
            "_model_module": "@jupyter-widgets/controls",
            "_model_module_version": "1.5.0",
            "_model_name": "HBoxModel",
            "_view_count": null,
            "_view_module": "@jupyter-widgets/controls",
            "_view_module_version": "1.5.0",
            "_view_name": "HBoxView",
            "box_style": "",
            "children": [
              "IPY_MODEL_aa19a80745cd442abb9b42a2db93422b",
              "IPY_MODEL_13555d14189d48aebdec7699ee8862bf",
              "IPY_MODEL_e217ab47b2854d14bc473b2bc85077d2"
            ],
            "layout": "IPY_MODEL_878a799ad25043be98d9c2c7d03a95f6"
          }
        },
        "aa19a80745cd442abb9b42a2db93422b": {
          "model_module": "@jupyter-widgets/controls",
          "model_name": "HTMLModel",
          "model_module_version": "1.5.0",
          "state": {
            "_dom_classes": [],
            "_model_module": "@jupyter-widgets/controls",
            "_model_module_version": "1.5.0",
            "_model_name": "HTMLModel",
            "_view_count": null,
            "_view_module": "@jupyter-widgets/controls",
            "_view_module_version": "1.5.0",
            "_view_name": "HTMLView",
            "description": "",
            "description_tooltip": null,
            "layout": "IPY_MODEL_99be7652e1454b1b945ccf933c29324c",
            "placeholder": "​",
            "style": "IPY_MODEL_d46b2cf654a542e9854d8f54127d22cc",
            "value": "Done! Use &#x27;show&#x27; commands to display/save.   "
          }
        },
        "13555d14189d48aebdec7699ee8862bf": {
          "model_module": "@jupyter-widgets/controls",
          "model_name": "FloatProgressModel",
          "model_module_version": "1.5.0",
          "state": {
            "_dom_classes": [],
            "_model_module": "@jupyter-widgets/controls",
            "_model_module_version": "1.5.0",
            "_model_name": "FloatProgressModel",
            "_view_count": null,
            "_view_module": "@jupyter-widgets/controls",
            "_view_module_version": "1.5.0",
            "_view_name": "ProgressView",
            "bar_style": "success",
            "description": "",
            "description_tooltip": null,
            "layout": "IPY_MODEL_cf70ffe7c5914bfd9dc2a17c7dcc9340",
            "max": 1,
            "min": 0,
            "orientation": "horizontal",
            "style": "IPY_MODEL_7b51fdaeef1c4638915ea96d3ab2ff9f",
            "value": 1
          }
        },
        "e217ab47b2854d14bc473b2bc85077d2": {
          "model_module": "@jupyter-widgets/controls",
          "model_name": "HTMLModel",
          "model_module_version": "1.5.0",
          "state": {
            "_dom_classes": [],
            "_model_module": "@jupyter-widgets/controls",
            "_model_module_version": "1.5.0",
            "_model_name": "HTMLModel",
            "_view_count": null,
            "_view_module": "@jupyter-widgets/controls",
            "_view_module_version": "1.5.0",
            "_view_name": "HTMLView",
            "description": "",
            "description_tooltip": null,
            "layout": "IPY_MODEL_903d530dfe1e4315b52823671609014e",
            "placeholder": "​",
            "style": "IPY_MODEL_843c33e870a144ca89044836cf82b437",
            "value": " [100%]   00:04 -&gt; (00:00 left)"
          }
        },
        "878a799ad25043be98d9c2c7d03a95f6": {
          "model_module": "@jupyter-widgets/base",
          "model_name": "LayoutModel",
          "model_module_version": "1.2.0",
          "state": {
            "_model_module": "@jupyter-widgets/base",
            "_model_module_version": "1.2.0",
            "_model_name": "LayoutModel",
            "_view_count": null,
            "_view_module": "@jupyter-widgets/base",
            "_view_module_version": "1.2.0",
            "_view_name": "LayoutView",
            "align_content": null,
            "align_items": null,
            "align_self": null,
            "border": null,
            "bottom": null,
            "display": "inline-flex",
            "flex": null,
            "flex_flow": "row wrap",
            "grid_area": null,
            "grid_auto_columns": null,
            "grid_auto_flow": null,
            "grid_auto_rows": null,
            "grid_column": null,
            "grid_gap": null,
            "grid_row": null,
            "grid_template_areas": null,
            "grid_template_columns": null,
            "grid_template_rows": null,
            "height": null,
            "justify_content": null,
            "justify_items": null,
            "left": null,
            "margin": null,
            "max_height": null,
            "max_width": null,
            "min_height": null,
            "min_width": null,
            "object_fit": null,
            "object_position": null,
            "order": null,
            "overflow": null,
            "overflow_x": null,
            "overflow_y": null,
            "padding": null,
            "right": null,
            "top": null,
            "visibility": null,
            "width": "100%"
          }
        },
        "99be7652e1454b1b945ccf933c29324c": {
          "model_module": "@jupyter-widgets/base",
          "model_name": "LayoutModel",
          "model_module_version": "1.2.0",
          "state": {
            "_model_module": "@jupyter-widgets/base",
            "_model_module_version": "1.2.0",
            "_model_name": "LayoutModel",
            "_view_count": null,
            "_view_module": "@jupyter-widgets/base",
            "_view_module_version": "1.2.0",
            "_view_name": "LayoutView",
            "align_content": null,
            "align_items": null,
            "align_self": null,
            "border": null,
            "bottom": null,
            "display": null,
            "flex": null,
            "flex_flow": null,
            "grid_area": null,
            "grid_auto_columns": null,
            "grid_auto_flow": null,
            "grid_auto_rows": null,
            "grid_column": null,
            "grid_gap": null,
            "grid_row": null,
            "grid_template_areas": null,
            "grid_template_columns": null,
            "grid_template_rows": null,
            "height": null,
            "justify_content": null,
            "justify_items": null,
            "left": null,
            "margin": null,
            "max_height": null,
            "max_width": null,
            "min_height": null,
            "min_width": null,
            "object_fit": null,
            "object_position": null,
            "order": null,
            "overflow": null,
            "overflow_x": null,
            "overflow_y": null,
            "padding": null,
            "right": null,
            "top": null,
            "visibility": null,
            "width": null
          }
        },
        "d46b2cf654a542e9854d8f54127d22cc": {
          "model_module": "@jupyter-widgets/controls",
          "model_name": "DescriptionStyleModel",
          "model_module_version": "1.5.0",
          "state": {
            "_model_module": "@jupyter-widgets/controls",
            "_model_module_version": "1.5.0",
            "_model_name": "DescriptionStyleModel",
            "_view_count": null,
            "_view_module": "@jupyter-widgets/base",
            "_view_module_version": "1.2.0",
            "_view_name": "StyleView",
            "description_width": ""
          }
        },
        "cf70ffe7c5914bfd9dc2a17c7dcc9340": {
          "model_module": "@jupyter-widgets/base",
          "model_name": "LayoutModel",
          "model_module_version": "1.2.0",
          "state": {
            "_model_module": "@jupyter-widgets/base",
            "_model_module_version": "1.2.0",
            "_model_name": "LayoutModel",
            "_view_count": null,
            "_view_module": "@jupyter-widgets/base",
            "_view_module_version": "1.2.0",
            "_view_name": "LayoutView",
            "align_content": null,
            "align_items": null,
            "align_self": null,
            "border": null,
            "bottom": null,
            "display": null,
            "flex": "2",
            "flex_flow": null,
            "grid_area": null,
            "grid_auto_columns": null,
            "grid_auto_flow": null,
            "grid_auto_rows": null,
            "grid_column": null,
            "grid_gap": null,
            "grid_row": null,
            "grid_template_areas": null,
            "grid_template_columns": null,
            "grid_template_rows": null,
            "height": null,
            "justify_content": null,
            "justify_items": null,
            "left": null,
            "margin": null,
            "max_height": null,
            "max_width": null,
            "min_height": null,
            "min_width": null,
            "object_fit": null,
            "object_position": null,
            "order": null,
            "overflow": null,
            "overflow_x": null,
            "overflow_y": null,
            "padding": null,
            "right": null,
            "top": null,
            "visibility": null,
            "width": null
          }
        },
        "7b51fdaeef1c4638915ea96d3ab2ff9f": {
          "model_module": "@jupyter-widgets/controls",
          "model_name": "ProgressStyleModel",
          "model_module_version": "1.5.0",
          "state": {
            "_model_module": "@jupyter-widgets/controls",
            "_model_module_version": "1.5.0",
            "_model_name": "ProgressStyleModel",
            "_view_count": null,
            "_view_module": "@jupyter-widgets/base",
            "_view_module_version": "1.2.0",
            "_view_name": "StyleView",
            "bar_color": null,
            "description_width": ""
          }
        },
        "903d530dfe1e4315b52823671609014e": {
          "model_module": "@jupyter-widgets/base",
          "model_name": "LayoutModel",
          "model_module_version": "1.2.0",
          "state": {
            "_model_module": "@jupyter-widgets/base",
            "_model_module_version": "1.2.0",
            "_model_name": "LayoutModel",
            "_view_count": null,
            "_view_module": "@jupyter-widgets/base",
            "_view_module_version": "1.2.0",
            "_view_name": "LayoutView",
            "align_content": null,
            "align_items": null,
            "align_self": null,
            "border": null,
            "bottom": null,
            "display": null,
            "flex": null,
            "flex_flow": null,
            "grid_area": null,
            "grid_auto_columns": null,
            "grid_auto_flow": null,
            "grid_auto_rows": null,
            "grid_column": null,
            "grid_gap": null,
            "grid_row": null,
            "grid_template_areas": null,
            "grid_template_columns": null,
            "grid_template_rows": null,
            "height": null,
            "justify_content": null,
            "justify_items": null,
            "left": null,
            "margin": null,
            "max_height": null,
            "max_width": null,
            "min_height": null,
            "min_width": null,
            "object_fit": null,
            "object_position": null,
            "order": null,
            "overflow": null,
            "overflow_x": null,
            "overflow_y": null,
            "padding": null,
            "right": null,
            "top": null,
            "visibility": null,
            "width": null
          }
        },
        "843c33e870a144ca89044836cf82b437": {
          "model_module": "@jupyter-widgets/controls",
          "model_name": "DescriptionStyleModel",
          "model_module_version": "1.5.0",
          "state": {
            "_model_module": "@jupyter-widgets/controls",
            "_model_module_version": "1.5.0",
            "_model_name": "DescriptionStyleModel",
            "_view_count": null,
            "_view_module": "@jupyter-widgets/base",
            "_view_module_version": "1.2.0",
            "_view_name": "StyleView",
            "description_width": ""
          }
        }
      }
    }
  },
  "nbformat": 4,
  "nbformat_minor": 0
}